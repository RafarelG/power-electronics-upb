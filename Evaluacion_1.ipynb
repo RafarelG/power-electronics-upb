{
  "nbformat": 4,
  "nbformat_minor": 0,
  "metadata": {
    "colab": {
      "private_outputs": true,
      "provenance": [],
      "include_colab_link": true
    },
    "kernelspec": {
      "name": "python3",
      "display_name": "Python 3"
    },
    "language_info": {
      "name": "python"
    }
  },
  "cells": [
    {
      "cell_type": "markdown",
      "metadata": {
        "id": "view-in-github",
        "colab_type": "text"
      },
      "source": [
        "<a href=\"https://colab.research.google.com/github/RafarelG/power-electronics-upb/blob/main/Evaluacion_1.ipynb\" target=\"_parent\"><img src=\"https://colab.research.google.com/assets/colab-badge.svg\" alt=\"Open In Colab\"/></a>"
      ]
    },
    {
      "cell_type": "markdown",
      "source": [
        "# Evaluación 1\n",
        "## Python aplicado a la Ingeniería 202520\n",
        "**Docente:** Miguel Ortiz\n",
        "\n",
        "**Estudiante:** X\n",
        "\n",
        "**email:** x@upb.edu.co\n",
        "\n",
        "**Fecha:** 21/07/2025"
      ],
      "metadata": {
        "id": "5w8oXwNDRlYc"
      }
    },
    {
      "cell_type": "markdown",
      "source": [
        "**Problema 1:** Reggaeton de Melquiades\n",
        "\n",
        "Escriba un programa que genere una canción de Reggaeton utilizando el algoritmo de Melquiades"
      ],
      "metadata": {
        "id": "_d8-sgv8SBnV"
      }
    },
    {
      "cell_type": "code",
      "execution_count": null,
      "metadata": {
        "id": "mCLX3NaJRbPJ"
      },
      "outputs": [],
      "source": [
        "import random\n",
        "\n",
        "subject = [\"Mami\", \"Bebé\", \"Princess\"]\n",
        "intention = [\"yo quiero\", \"yo puedo\", \"yo vengo a\", \"voy a\"]\n",
        "action = [\"encendelte\", \"amalte\", \"ligar\", \"jugar\"]\n",
        "adjective = [\"suave\", \"lento\", \"rápido\", \"fuerte\"]\n",
        "compl_1 = [\"hasta que salga el sol\", \"toda la noche\", \"hasta el amanecer\", \"todo el día\"]\n",
        "compl_2 = [\"sin anestecia\", \"sin compromiso\", \"feis to feis\", \"sin miedo\"]\n",
        "\n",
        "elements = [subject, intention, action, adjective, compl_1, compl_2]\n",
        "\n",
        "song = \"\"\n",
        "for element in elements:\n",
        "    song += random.choice(element) + \" \"\n",
        "\n",
        "print(song)"
      ]
    },
    {
      "cell_type": "markdown",
      "source": [
        "**Problema 2:** Words to len\n",
        "\n",
        "Crea una función que genere un nuevo diccionario basado en una lista de strings, en el cual la llave de cada ítem sea la palabra del string y su valor la longitud de la palabra."
      ],
      "metadata": {
        "id": "_9U59QefWydl"
      }
    },
    {
      "cell_type": "code",
      "source": [
        "# Palabras de prueba\n",
        "# Lista con palabras de prueba para la función\n",
        "words = [\"cuerno\", \"girasol\", \"cierre\", \"brújula\", \"adivinar\"]\n",
        "\n",
        "# Función words_to_len\n",
        "def words_to_len(words):\n",
        "  output_dict = {}\n",
        "  # Iterar para cada palabra de la lista de palabras\n",
        "  # Y para cada palabra, asignar la longitud de la palabra como valor\n",
        "  for word in words:\n",
        "    output_dict[word] = len(word)\n",
        "\n",
        "  # return {item:len(item) for item in words}\n",
        "  return output_dict\n",
        "\n",
        "# Salida esperada\n",
        "expected_output = {\"cuerno\": 6,\n",
        "                   \"girasol\": 7,\n",
        "                   \"cierre\": 6,\n",
        "                   \"brújula\": 7,\n",
        "                   \"adivinar\": 8}\n",
        "\n",
        "print(words_to_len(words))\n",
        "print(expected_output)"
      ],
      "metadata": {
        "id": "SSJYJVyqSXW8"
      },
      "execution_count": null,
      "outputs": []
    },
    {
      "cell_type": "code",
      "source": [
        "radom_words = [\"bump\", \"develop\", \"dead\",\n",
        "               \"blot\", \"bump\", \"bump\",\n",
        "               \"develop\", \"develop\", \"blot\", \"blot\"]\n",
        "\n",
        "def words_to_len(words):\n",
        "  output_count = {}\n",
        "  for word in words:\n",
        "    if word in output_count:\n",
        "      output_count[word] += 1\n",
        "    else:\n",
        "      output_count[word] = 1\n",
        "\n",
        "  return output_count\n",
        "\n",
        "expected_output = {\"bump\": 3,\n",
        "                   \"develop\": 3,\n",
        "                   \"dead\": 1,\n",
        "                   \"blot\": 2}\n",
        "\n",
        "print(words_to_len(radom_words))\n",
        "print(expected_output)"
      ],
      "metadata": {
        "id": "_n77air6enAQ"
      },
      "execution_count": null,
      "outputs": []
    },
    {
      "cell_type": "code",
      "source": [],
      "metadata": {
        "id": "MsVJSD-8j3-G"
      },
      "execution_count": null,
      "outputs": []
    }
  ]
}